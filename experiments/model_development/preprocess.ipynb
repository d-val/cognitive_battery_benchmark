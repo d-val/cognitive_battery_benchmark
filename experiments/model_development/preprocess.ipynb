{
 "cells": [
  {
   "cell_type": "code",
   "execution_count": 1,
   "metadata": {},
   "outputs": [],
   "source": [
    "import os"
   ]
  },
  {
   "cell_type": "code",
   "execution_count": 2,
   "metadata": {},
   "outputs": [],
   "source": [
    "count = 0\n",
    "\n",
    "data_path = \"/home/teresagao/data/swap_dataset\"\n",
    "for f in os.listdir(data_path):\n",
    "    if \"swaps\" not in f:\n",
    "        continue\n",
    "\n",
    "    tubes_count = int(f.split(\"_\")[0])\n",
    "    new_folder = \"train\" if tubes_count <= 4 else \"test\"\n",
    "    if not os.path.isdir(new_folder):\n",
    "        os.makedirs(new_folder)\n",
    "\n",
    "    f_path = os.path.join(data_path, f)\n",
    "    for i in os.listdir(f_path):\n",
    "        if not i.isdigit():\n",
    "            continue\n",
    "\n",
    "        old_path = os.path.join(f_path, i)\n",
    "        new_path = os.path.join(new_folder, str(count))\n",
    "        os.symlink(old_path, new_path)\n",
    "        count += 1"
   ]
  },
  {
   "cell_type": "code",
   "execution_count": 3,
   "metadata": {},
   "outputs": [],
   "source": [
    "import os\n",
    "\n",
    "os.symlink(\"/home/teresagao/data/simple_swap\", \"simple_swap\")"
   ]
  },
  {
   "cell_type": "code",
   "execution_count": null,
   "metadata": {},
   "outputs": [],
   "source": []
  }
 ],
 "metadata": {
  "kernelspec": {
   "display_name": "Python 3 (ipykernel)",
   "language": "python",
   "name": "python3"
  },
  "language_info": {
   "codemirror_mode": {
    "name": "ipython",
    "version": 3
   },
   "file_extension": ".py",
   "mimetype": "text/x-python",
   "name": "python",
   "nbconvert_exporter": "python",
   "pygments_lexer": "ipython3",
   "version": "3.7.9"
  },
  "vscode": {
   "interpreter": {
    "hash": "d4d1e4263499bec80672ea0156c357c1ee493ec2b1c70f0acce89fc37c4a6abe"
   }
  }
 },
 "nbformat": 4,
 "nbformat_minor": 2
}
